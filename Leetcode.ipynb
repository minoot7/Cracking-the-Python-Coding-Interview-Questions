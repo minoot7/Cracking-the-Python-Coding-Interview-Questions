{
 "cells": [
  {
   "cell_type": "code",
   "execution_count": 1,
   "metadata": {},
   "outputs": [],
   "source": [
    "#starting with microsoft challenges"
   ]
  },
  {
   "cell_type": "code",
   "execution_count": null,
   "metadata": {},
   "outputs": [],
   "source": [
    "#Two Sum\n",
    "#Given an array of integers nums and an integer target, \n",
    "#return indices of the two numbers such that they add up to target.\n",
    "#def twoSum(self, nums: List[int], target: int) -> List[int]:\n",
    "\n",
    "#Minoo solution: worked for 45 cases out of 52.\n",
    "for x in nums:\n",
    "    for y in nums:\n",
    "        if x + y == target:\n",
    "            return (nums.index(x), nums.index(y))\n",
    "        \n",
    "# Correct awnser:\n",
    "   h = {}\n",
    "        for i, num in enumerate(nums):\n",
    "            n = target - num\n",
    "            if n not in h:\n",
    "                h[num] = i\n",
    "            else:\n",
    "                return [h[n], i]"
   ]
  },
  {
   "cell_type": "code",
   "execution_count": 2,
   "metadata": {},
   "outputs": [
    {
     "ename": "IndentationError",
     "evalue": "unexpected indent (<ipython-input-2-c777b512fa54>, line 4)",
     "output_type": "error",
     "traceback": [
      "\u001b[0;36m  File \u001b[0;32m\"<ipython-input-2-c777b512fa54>\"\u001b[0;36m, line \u001b[0;32m4\u001b[0m\n\u001b[0;31m    def isPalindrome(self, s: str) -> bool:\u001b[0m\n\u001b[0m    ^\u001b[0m\n\u001b[0;31mIndentationError\u001b[0m\u001b[0;31m:\u001b[0m unexpected indent\n"
     ]
    }
   ],
   "source": [
    "#Valid Palindrome\n",
    "#Given a string, determine if it is a palindrome, \n",
    "#considering only alphanumeric characters and ignoring cases.\n",
    "    def isPalindrome(self, s: str) -> bool:\n",
    "            import re\n",
    "            return re.sub(r\"[^a-zA-Z0-9]\", '', s).lower() == re.sub(r\"[^a-zA-Z0-9]\", '', s).lower() [::-1] if True else False"
   ]
  },
  {
   "cell_type": "code",
   "execution_count": null,
   "metadata": {},
   "outputs": [],
   "source": []
  }
 ],
 "metadata": {
  "kernelspec": {
   "display_name": "Python 3",
   "language": "python",
   "name": "python3"
  },
  "language_info": {
   "codemirror_mode": {
    "name": "ipython",
    "version": 3
   },
   "file_extension": ".py",
   "mimetype": "text/x-python",
   "name": "python",
   "nbconvert_exporter": "python",
   "pygments_lexer": "ipython3",
   "version": "3.8.3"
  }
 },
 "nbformat": 4,
 "nbformat_minor": 4
}
