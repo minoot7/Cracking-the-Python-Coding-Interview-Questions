{
 "cells": [
  {
   "cell_type": "code",
   "execution_count": 1,
   "metadata": {},
   "outputs": [],
   "source": [
    "#starting with microsoft challenges"
   ]
  },
  {
   "cell_type": "code",
   "execution_count": null,
   "metadata": {},
   "outputs": [],
   "source": [
    "#Two Sum\n",
    "#Given an array of integers nums and an integer target, \n",
    "#return indices of the two numbers such that they add up to target.\n",
    "#def twoSum(self, nums: List[int], target: int) -> List[int]:\n",
    "\n",
    "#Minoo solution: worked for 45 cases out of 52.\n",
    "for x in nums:\n",
    "    for y in nums:\n",
    "        if x + y == target:\n",
    "            return (nums.index(x), nums.index(y))\n",
    "        \n",
    "# Correct awnser:\n",
    "    h={}\n",
    "        for index, num1 in enumerate (nums):\n",
    "            num2= target - num1\n",
    "            if num2 not in h:\n",
    "                h[num1]=index\n",
    "            else:\n",
    "                return [h[num2], index]"
   ]
  },
  {
   "cell_type": "code",
   "execution_count": 2,
   "metadata": {},
   "outputs": [
    {
     "ename": "IndentationError",
     "evalue": "unexpected indent (<ipython-input-2-c777b512fa54>, line 4)",
     "output_type": "error",
     "traceback": [
      "\u001b[0;36m  File \u001b[0;32m\"<ipython-input-2-c777b512fa54>\"\u001b[0;36m, line \u001b[0;32m4\u001b[0m\n\u001b[0;31m    def isPalindrome(self, s: str) -> bool:\u001b[0m\n\u001b[0m    ^\u001b[0m\n\u001b[0;31mIndentationError\u001b[0m\u001b[0;31m:\u001b[0m unexpected indent\n"
     ]
    }
   ],
   "source": [
    "#Valid Palindrome\n",
    "#Given a string, determine if it is a palindrome, \n",
    "#considering only alphanumeric characters and ignoring cases.\n",
    "    def isPalindrome(self, s: str) -> bool:\n",
    "            import re\n",
    "            return re.sub(r\"[^a-zA-Z0-9]\", '', s).lower() == re.sub(r\"[^a-zA-Z0-9]\", '', s).lower() [::-1] if True else False"
   ]
  },
  {
   "cell_type": "code",
   "execution_count": null,
   "metadata": {},
   "outputs": [],
   "source": [
    "#Given a string s, find the length of the longest substring without repeating characters."
   ]
  },
  {
   "cell_type": "code",
   "execution_count": 3,
   "metadata": {},
   "outputs": [],
   "source": [
    "s=['a','b','c','a','b','c','d']"
   ]
  },
  {
   "cell_type": "code",
   "execution_count": 34,
   "metadata": {},
   "outputs": [
    {
     "data": {
      "text/plain": [
       "'c'"
      ]
     },
     "execution_count": 34,
     "metadata": {},
     "output_type": "execute_result"
    }
   ],
   "source": [
    "seen={\"a\":\"c\",\"b\":\"d\"}\n",
    "seen[\"a\"]"
   ]
  },
  {
   "cell_type": "code",
   "execution_count": 47,
   "metadata": {},
   "outputs": [],
   "source": [
    "## Starting with easy leetcode questions:\n",
    "def maxProfit(prices):\n",
    "    if len(prices)<2:\n",
    "        return 0\n",
    "    else:\n",
    "        minpurchase=prices[0]\n",
    "        maxprofit=0\n",
    "        for i in range (1, len(prices)):\n",
    "            maxprofit=max(maxprofit, prices[i]-minpurchase)\n",
    "            minpurchase= min(minpurchase, prices[i])\n",
    "        return maxprofit"
   ]
  },
  {
   "cell_type": "code",
   "execution_count": 48,
   "metadata": {},
   "outputs": [
    {
     "data": {
      "text/plain": [
       "4"
      ]
     },
     "execution_count": 48,
     "metadata": {},
     "output_type": "execute_result"
    }
   ],
   "source": [
    "prices=(1,3,5)\n",
    "maxProfit(prices)"
   ]
  },
  {
   "cell_type": "code",
   "execution_count": 2,
   "metadata": {},
   "outputs": [],
   "source": [
    "words = [\"hello\",\"leetcode\"]\n",
    "order = \"hlabcdefgijkmnopqrstuvwxyz\"\n"
   ]
  },
  {
   "cell_type": "code",
   "execution_count": 23,
   "metadata": {},
   "outputs": [
    {
     "name": "stdout",
     "output_type": "stream",
     "text": [
      "{'h': 0, 'l': 1, 'a': 2, 'b': 3, 'c': 4, 'd': 5, 'e': 6, 'f': 7, 'g': 8, 'i': 9, 'j': 10, 'k': 11, 'm': 12, 'n': 13, 'o': 14, 'p': 15, 'q': 16, 'r': 17, 's': 18, 't': 19, 'u': 20, 'v': 21, 'w': 22, 'x': 23, 'y': 24, 'z': 25}\n",
      "[0, 6, 1, 1, 14]\n",
      "[1, 6, 6, 19, 4, 14, 5, 6]\n",
      "[1, 6, 6, 19, 4, 14, 5, 6]\n"
     ]
    }
   ],
   "source": [
    "char_to_idx = {c:i for i,c in enumerate(order)}\n",
    "print (char_to_idx ) \n",
    "prev = []        \n",
    "for j in range(len(words)):\n",
    "    # Translate each character into its position in the alien alphabet.\n",
    "    word = [char_to_idx[char] for char in words[j]]\n",
    "\n",
    "    print (word)\n",
    "    #if word< prev:\n",
    "        #return False\n",
    "    #else:\n",
    "    prev=word\n",
    "print (prev)"
   ]
  },
  {
   "cell_type": "code",
   "execution_count": null,
   "metadata": {},
   "outputs": [],
   "source": []
  }
 ],
 "metadata": {
  "kernelspec": {
   "display_name": "Python 3",
   "language": "python",
   "name": "python3"
  },
  "language_info": {
   "codemirror_mode": {
    "name": "ipython",
    "version": 3
   },
   "file_extension": ".py",
   "mimetype": "text/x-python",
   "name": "python",
   "nbconvert_exporter": "python",
   "pygments_lexer": "ipython3",
   "version": "3.8.5"
  }
 },
 "nbformat": 4,
 "nbformat_minor": 4
}
