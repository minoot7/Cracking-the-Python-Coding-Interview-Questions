{
 "cells": [
  {
   "cell_type": "code",
   "execution_count": 1,
   "id": "efficient-application",
   "metadata": {},
   "outputs": [
    {
     "data": {
      "text/plain": [
       "121932631112635269"
      ]
     },
     "execution_count": 1,
     "metadata": {},
     "output_type": "execute_result"
    }
   ],
   "source": [
    "#1) What is 123456789 times 987654321?\n",
    "123456789 * 987654321"
   ]
  },
  {
   "cell_type": "code",
   "execution_count": 2,
   "id": "prime-joining",
   "metadata": {},
   "outputs": [
    {
     "data": {
      "text/plain": [
       "100"
      ]
     },
     "execution_count": 2,
     "metadata": {},
     "output_type": "execute_result"
    }
   ],
   "source": [
    "#2) Create a variable called mass that is equal to 100.\n",
    "mass = 100\n",
    "mass"
   ]
  },
  {
   "cell_type": "code",
   "execution_count": 6,
   "id": "infrared-baltimore",
   "metadata": {},
   "outputs": [
    {
     "data": {
      "text/plain": [
       "5"
      ]
     },
     "execution_count": 6,
     "metadata": {},
     "output_type": "execute_result"
    }
   ],
   "source": [
    "#3) Create a variable called velocity that is equal to 5.\n",
    "velocity = 5\n",
    "velocity"
   ]
  },
  {
   "cell_type": "code",
   "execution_count": 7,
   "id": "alien-greenhouse",
   "metadata": {},
   "outputs": [
    {
     "data": {
      "text/plain": [
       "500"
      ]
     },
     "execution_count": 7,
     "metadata": {},
     "output_type": "execute_result"
    }
   ],
   "source": [
    "#4) In physics, the momentum an object is exerting is equal to its mass times its velocity. That is, $p = mv$. #Use the variables you defined above to compute this object's momentum.\n",
    "p = mass * velocity\n",
    "p"
   ]
  },
  {
   "cell_type": "code",
   "execution_count": 10,
   "id": "golden-helmet",
   "metadata": {},
   "outputs": [
    {
     "data": {
      "text/plain": [
       "1250.0"
      ]
     },
     "execution_count": 10,
     "metadata": {},
     "output_type": "execute_result"
    }
   ],
   "source": [
    "#5) The kinetic energy of an object is half its mass times the square of its velocity. That is, $K = \\frac{1}{2}mv^2$. Compute the kinetic energy for this object using the variables you've already created.\n",
    "K = 0.5 * mass * velocity **2\n",
    "K"
   ]
  },
  {
   "cell_type": "code",
   "execution_count": 12,
   "id": "raising-rider",
   "metadata": {},
   "outputs": [
    {
     "data": {
      "text/plain": [
       "'Minoo'"
      ]
     },
     "execution_count": 12,
     "metadata": {},
     "output_type": "execute_result"
    }
   ],
   "source": [
    "#Create a variable called name that is equal to your name.\n",
    "name= 'Minoo'\n",
    "name"
   ]
  },
  {
   "cell_type": "code",
   "execution_count": 13,
   "id": "classified-preliminary",
   "metadata": {},
   "outputs": [
    {
     "data": {
      "text/plain": [
       "' Hello my name is Minoo'"
      ]
     },
     "execution_count": 13,
     "metadata": {},
     "output_type": "execute_result"
    }
   ],
   "source": [
    "#By adding strings together, introduce yourself in a string. For example \"Hello, my name is Tim!\". You may use f-strings if you know what they are and prefer to use them.\n",
    "f' Hello my name is {name}'"
   ]
  },
  {
   "cell_type": "code",
   "execution_count": 22,
   "id": "worldwide-tuesday",
   "metadata": {},
   "outputs": [
    {
     "data": {
      "text/plain": [
       "'Python programming is fun.'"
      ]
     },
     "execution_count": 22,
     "metadata": {},
     "output_type": "execute_result"
    }
   ],
   "source": [
    "#Define the string fact to be \"Python programming is fun.\"\n",
    "fact= 'Python programming is fun.'\n",
    "fact"
   ]
  },
  {
   "cell_type": "code",
   "execution_count": 16,
   "id": "documented-promise",
   "metadata": {},
   "outputs": [
    {
     "data": {
      "text/plain": [
       "'o'"
      ]
     },
     "execution_count": 16,
     "metadata": {},
     "output_type": "execute_result"
    }
   ],
   "source": [
    "#Index fact in order to get the \"o\" in \"Python\".\n",
    "fact[4]"
   ]
  },
  {
   "cell_type": "code",
   "execution_count": 17,
   "id": "passive-waterproof",
   "metadata": {},
   "outputs": [
    {
     "data": {
      "text/plain": [
       "'u'"
      ]
     },
     "execution_count": 17,
     "metadata": {},
     "output_type": "execute_result"
    }
   ],
   "source": [
    "#Index fact in order to get the \"u\" in \"fun\" using a negative index.\n",
    "fact[-2]"
   ]
  },
  {
   "cell_type": "code",
   "execution_count": 19,
   "id": "above-youth",
   "metadata": {},
   "outputs": [
    {
     "data": {
      "text/plain": [
       "'Python'"
      ]
     },
     "execution_count": 19,
     "metadata": {},
     "output_type": "execute_result"
    }
   ],
   "source": [
    "#Slice fact in order to get the word \"programming\".\n",
    "fact[0:6]"
   ]
  },
  {
   "cell_type": "code",
   "execution_count": 21,
   "id": "outer-alias",
   "metadata": {},
   "outputs": [
    {
     "data": {
      "text/plain": [
       "'PYTHON PROGRAMMING IS FUN'"
      ]
     },
     "execution_count": 21,
     "metadata": {},
     "output_type": "execute_result"
    }
   ],
   "source": [
    "#Uppercase fact.\n",
    "fact.upper()"
   ]
  },
  {
   "cell_type": "code",
   "execution_count": 23,
   "id": "cultural-spine",
   "metadata": {},
   "outputs": [
    {
     "data": {
      "text/plain": [
       "'Python programming is fun!'"
      ]
     },
     "execution_count": 23,
     "metadata": {},
     "output_type": "execute_result"
    }
   ],
   "source": [
    "#Replace the period at the end of fact with an exclamation point.\n",
    "fact.replace(\".\", \"!\")"
   ]
  },
  {
   "cell_type": "code",
   "execution_count": 25,
   "id": "absent-vitamin",
   "metadata": {},
   "outputs": [
    {
     "data": {
      "text/plain": [
       "'programming'"
      ]
     },
     "execution_count": 25,
     "metadata": {},
     "output_type": "execute_result"
    }
   ],
   "source": [
    "#Use .split() to get the second word of this string. Was this easier than one of the problems above?\n",
    "fact.split()[1]"
   ]
  },
  {
   "cell_type": "code",
   "execution_count": 28,
   "id": "environmental-watts",
   "metadata": {},
   "outputs": [
    {
     "data": {
      "text/plain": [
       "'.nuf si gnimmargorp nohtyP'"
      ]
     },
     "execution_count": 28,
     "metadata": {},
     "output_type": "execute_result"
    }
   ],
   "source": [
    "#Reverse fact.\n",
    "fact[::-1]"
   ]
  },
  {
   "cell_type": "code",
   "execution_count": 29,
   "id": "intensive-implementation",
   "metadata": {},
   "outputs": [
    {
     "data": {
      "text/plain": [
       "'.nuf si gnimmargorp nohtyP'"
      ]
     },
     "execution_count": 29,
     "metadata": {},
     "output_type": "execute_result"
    }
   ],
   "source": [
    "# Method Two\n",
    "''.join(reversed(fact))"
   ]
  },
  {
   "cell_type": "code",
   "execution_count": 30,
   "id": "resident-wallet",
   "metadata": {},
   "outputs": [
    {
     "data": {
      "text/plain": [
       "True"
      ]
     },
     "execution_count": 30,
     "metadata": {},
     "output_type": "execute_result"
    }
   ],
   "source": [
    "#Does fact contain the letter y? To find this answer, use the in keyword.\n",
    "'y' in fact"
   ]
  },
  {
   "cell_type": "code",
   "execution_count": 32,
   "id": "adult-clerk",
   "metadata": {},
   "outputs": [
    {
     "data": {
      "text/plain": [
       "2"
      ]
     },
     "execution_count": 32,
     "metadata": {},
     "output_type": "execute_result"
    }
   ],
   "source": [
    "#How many os does fact have?\n",
    "fact.count('o')"
   ]
  },
  {
   "cell_type": "code",
   "execution_count": 34,
   "id": "naked-transfer",
   "metadata": {},
   "outputs": [
    {
     "data": {
      "text/plain": [
       "'Pyth_n pr_gramming is fun.'"
      ]
     },
     "execution_count": 34,
     "metadata": {},
     "output_type": "execute_result"
    }
   ],
   "source": [
    "#Replace all the os in fact with an underscore (do not redefine fact).\n",
    "fact.replace('o', '_')"
   ]
  },
  {
   "cell_type": "code",
   "execution_count": 41,
   "id": "affecting-volleyball",
   "metadata": {},
   "outputs": [
    {
     "data": {
      "text/plain": [
       "['Alice', 'Bob', 'Charlie']"
      ]
     },
     "execution_count": 41,
     "metadata": {},
     "output_type": "execute_result"
    }
   ],
   "source": [
    "#Create a list friends of your three best friends, \"Alice\", \"Bob\", and \"Charlie\".\n",
    "friends=[\"Alice\", \"Bob\", \"Charlie\"]\n",
    "friends"
   ]
  },
  {
   "cell_type": "code",
   "execution_count": 38,
   "id": "dying-syndicate",
   "metadata": {},
   "outputs": [
    {
     "data": {
      "text/plain": [
       "3"
      ]
     },
     "execution_count": 38,
     "metadata": {},
     "output_type": "execute_result"
    }
   ],
   "source": [
    "#Find the length of friends.\n",
    "len(friends)"
   ]
  },
  {
   "cell_type": "code",
   "execution_count": 42,
   "id": "micro-parliament",
   "metadata": {},
   "outputs": [
    {
     "data": {
      "text/plain": [
       "['Alice', 'Bob', 'Charlie', 'Debbie']"
      ]
     },
     "execution_count": 42,
     "metadata": {},
     "output_type": "execute_result"
    }
   ],
   "source": [
    "#Add your new friend \"Debbie\" to your list of friends.\n",
    "friends.append('Debbie')\n",
    "friends"
   ]
  },
  {
   "cell_type": "code",
   "execution_count": 43,
   "id": "civic-madison",
   "metadata": {},
   "outputs": [
    {
     "data": {
      "text/plain": [
       "['Alice', 'Bob', 'Debbie']"
      ]
     },
     "execution_count": 43,
     "metadata": {},
     "output_type": "execute_result"
    }
   ],
   "source": [
    "#Charlie has no-showed to your piano recital. Remove him from your friends.\n",
    "friends.remove('Charlie')\n",
    "friends"
   ]
  },
  {
   "cell_type": "code",
   "execution_count": 46,
   "id": "interested-declaration",
   "metadata": {},
   "outputs": [
    {
     "data": {
      "text/plain": [
       "'Alice & Bob & Debbie'"
      ]
     },
     "execution_count": 46,
     "metadata": {},
     "output_type": "execute_result"
    }
   ],
   "source": [
    "#Using the .join() method, join friends to look like this exactly: \"Alice & Bob & Debbie\"\n",
    "\" & \".join(friends)"
   ]
  },
  {
   "cell_type": "code",
   "execution_count": 47,
   "id": "divided-mayor",
   "metadata": {},
   "outputs": [
    {
     "data": {
      "text/plain": [
       "0"
      ]
     },
     "execution_count": 47,
     "metadata": {},
     "output_type": "execute_result"
    }
   ],
   "source": [
    "#What is the length of []? What about [[]]? Why?\n",
    "len([])"
   ]
  },
  {
   "cell_type": "code",
   "execution_count": 48,
   "id": "private-devon",
   "metadata": {},
   "outputs": [
    {
     "data": {
      "text/plain": [
       "1"
      ]
     },
     "execution_count": 48,
     "metadata": {},
     "output_type": "execute_result"
    }
   ],
   "source": [
    "len([[]])"
   ]
  },
  {
   "cell_type": "code",
   "execution_count": 50,
   "id": "portuguese-permission",
   "metadata": {},
   "outputs": [
    {
     "data": {
      "text/plain": [
       "4"
      ]
     },
     "execution_count": 50,
     "metadata": {},
     "output_type": "execute_result"
    }
   ],
   "source": [
    "nested_deep = [1, [2, 3], 4, [5, [6, 7, [8]]]]\n",
    "#What is the length of nested_deep?\n",
    "len(nested_deep)"
   ]
  },
  {
   "cell_type": "code",
   "execution_count": 51,
   "id": "greater-petite",
   "metadata": {},
   "outputs": [
    {
     "data": {
      "text/plain": [
       "5"
      ]
     },
     "execution_count": 51,
     "metadata": {},
     "output_type": "execute_result"
    }
   ],
   "source": [
    "#Index nested_deep to get the 5.\n",
    "nested_deep[3][0]"
   ]
  },
  {
   "cell_type": "code",
   "execution_count": 53,
   "id": "tough-incident",
   "metadata": {},
   "outputs": [
    {
     "data": {
      "text/plain": [
       "8"
      ]
     },
     "execution_count": 53,
     "metadata": {},
     "output_type": "execute_result"
    }
   ],
   "source": [
    "#Index nested_deep to get the 8.\n",
    "nested_deep[3][1][2][0]"
   ]
  },
  {
   "cell_type": "code",
   "execution_count": 56,
   "id": "romantic-barrier",
   "metadata": {},
   "outputs": [
    {
     "name": "stdout",
     "output_type": "stream",
     "text": [
      "1\n",
      "2\n",
      "3\n",
      "4\n",
      "5\n",
      "6\n",
      "7\n",
      "8\n",
      "9\n",
      "10\n"
     ]
    }
   ],
   "source": [
    "#Print out the numbers 1 through 10.\n",
    "for i in range(1,11):\n",
    "    print (i)"
   ]
  },
  {
   "cell_type": "code",
   "execution_count": 57,
   "id": "attractive-import",
   "metadata": {},
   "outputs": [
    {
     "name": "stdout",
     "output_type": "stream",
     "text": [
      "[1, 2, 3, 4, 5, 6, 7, 8, 9, 10]\n"
     ]
    }
   ],
   "source": [
    "# method 2\n",
    "print(list(range(1,11)))"
   ]
  },
  {
   "cell_type": "code",
   "execution_count": 58,
   "id": "adolescent-celebration",
   "metadata": {},
   "outputs": [
    {
     "name": "stdout",
     "output_type": "stream",
     "text": [
      "[1, 3, 5, 7, 9, 11, 13, 15, 17, 19]\n"
     ]
    }
   ],
   "source": [
    "#Print out the odd numbers between 1 and 20 by using the third paramter to the range() function.\n",
    "print(list(range(1,21,2)))"
   ]
  },
  {
   "cell_type": "code",
   "execution_count": 59,
   "id": "handy-malpractice",
   "metadata": {},
   "outputs": [
    {
     "name": "stdout",
     "output_type": "stream",
     "text": [
      "1\n",
      "3\n",
      "5\n",
      "7\n",
      "9\n",
      "11\n",
      "13\n",
      "15\n",
      "17\n",
      "19\n"
     ]
    }
   ],
   "source": [
    "#Print out the odd numbers between 1 and 20 by checking if the number is even before printing.\n",
    "for i in range(1,21):\n",
    "    if i % 2 != 0 :\n",
    "        print (i)"
   ]
  },
  {
   "cell_type": "code",
   "execution_count": 64,
   "id": "excessive-packet",
   "metadata": {},
   "outputs": [
    {
     "data": {
      "text/plain": [
       "5050"
      ]
     },
     "execution_count": 64,
     "metadata": {},
     "output_type": "execute_result"
    }
   ],
   "source": [
    "#What is the sum of the first 100 integers? Hint: Create a variable total equal to zero, and increment total inside a loop.\n",
    "total = 0\n",
    "for i in range(1,101):\n",
    "    total += i\n",
    "total"
   ]
  },
  {
   "cell_type": "code",
   "execution_count": null,
   "id": "retired-carpet",
   "metadata": {},
   "outputs": [],
   "source": []
  }
 ],
 "metadata": {
  "kernelspec": {
   "display_name": "Python 3",
   "language": "python",
   "name": "python3"
  },
  "language_info": {
   "codemirror_mode": {
    "name": "ipython",
    "version": 3
   },
   "file_extension": ".py",
   "mimetype": "text/x-python",
   "name": "python",
   "nbconvert_exporter": "python",
   "pygments_lexer": "ipython3",
   "version": "3.8.5"
  }
 },
 "nbformat": 4,
 "nbformat_minor": 5
}
